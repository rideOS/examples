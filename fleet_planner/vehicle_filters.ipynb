{
 "cells": [
  {
   "cell_type": "markdown",
   "metadata": {},
   "source": [
    "# Using vehicle filters in Fleet Planner API\n",
    "\n",
    "This jupyter notebook will run you through an example of using vehicle filters in the Fleet Planner API. We are going to get a recommendation plan for a fleet of vehicles while:\n",
    "\n",
    "1. Excluding specific vehicles from performing a task\n",
    "2. Allowing only specific vehicles to perform a task"
   ]
  },
  {
   "cell_type": "code",
   "execution_count": null,
   "metadata": {},
   "outputs": [],
   "source": [
    "import requests\n",
    "import os\n",
    "import json\n",
    "import copy"
   ]
  },
  {
   "cell_type": "markdown",
   "metadata": {},
   "source": [
    "## API Key\n",
    "\n",
    "To run this example, you'll need a rideOS API key. You can sign up for one [here](https://app.rideos.ai/login#lockScreen=signUp) and view it on your [profile page](https://app.rideos.ai/profile), then assign it to the `API_KEY` variable directly or set it as an environment variable to `RIDEOS_API_KEY`:"
   ]
  },
  {
   "cell_type": "code",
   "execution_count": null,
   "metadata": {},
   "outputs": [],
   "source": [
    "# Load the rideOS API key\n",
    "API_KEY = os.getenv(\"RIDEOS_API_KEY\")\n",
    "rideos_auth_header = {\"X-Api-Key\": API_KEY}\n",
    "\n",
    "get_plan_url = 'https://api.rideos.ai/fleet/v2/GetPlan'"
   ]
  },
  {
   "cell_type": "markdown",
   "metadata": {},
   "source": [
    "## Case 1: Exclude specific vehicles from performing a task\n",
    "\n",
    "Specific vehicles can be excluded from performing a task. The corresponding task will never be assigned to such vehicles by the Fleet Planner. In this example, we have 2 vehicles `vehicle-0` and `vehicle-1` and 1 task `task-0`. `vehicle-0` has been excluded from performing the task. \n",
    "\n",
    "Even though `vehicle-0` is much closer, `vehicle-1` has been assigned to the task since `vehicle-0` has been excluded."
   ]
  },
  {
   "cell_type": "code",
   "execution_count": null,
   "metadata": {},
   "outputs": [],
   "source": [
    "exclude_pool_ride_request = {\n",
    "    \"optimizeFor\": \"RIDE_HAIL\",\n",
    "    \"vehicles\": {\n",
    "        \"vehicle-0\": {\n",
    "            \"resourceCapacity\": 4,\n",
    "            \"vehicleId\": \"vehicle-0\",\n",
    "            \"position\": {\n",
    "                \"latitude\": 37.788897,\n",
    "                \"longitude\": -122.389669\n",
    "            }\n",
    "        },\n",
    "        \"vehicle-1\": {\n",
    "            \"resourceCapacity\": 3,\n",
    "            \"vehicleId\": \"vehicle-1\",\n",
    "            \"position\": {\n",
    "                \"latitude\": 37.773611,\n",
    "                \"longitude\": -122.421216\n",
    "            }\n",
    "        }\n",
    "    },\n",
    "    \"tasks\": {\n",
    "        \"task-0\": {\n",
    "            \"resourcesRequired\": 1,\n",
    "            \"pickupStep\": {\n",
    "                \"position\": {\n",
    "                    \"latitude\": 37.790329,\n",
    "                    \"longitude\": -122.392231\n",
    "                }\n",
    "            },\n",
    "            \"dropoffStep\": {\n",
    "                \"position\": {\n",
    "                    \"latitude\": 37.795107,\n",
    "                    \"longitude\": -122.393426\n",
    "                }\n",
    "            },\n",
    "            \"blacklistedVehicleId\" : ['vehicle-0']\n",
    "        }\n",
    "    }\n",
    "}\n"
   ]
  },
  {
   "cell_type": "markdown",
   "metadata": {},
   "source": [
    "## Recommendation plan for each vehicle\n",
    "\n",
    "In the response, we will get the recommendation plan for each vehicle"
   ]
  },
  {
   "cell_type": "code",
   "execution_count": null,
   "metadata": {},
   "outputs": [],
   "source": [
    "response = requests.post(get_plan_url, headers=rideos_auth_header, json=exclude_pool_ride_request)\n",
    "response_dict = json.loads(response.text)\n",
    "for recommendation in response_dict['recommendations']:\n",
    "    steps = recommendation['planRecommendation']['assignedSteps']\n",
    "    for step in steps:\n",
    "        step['vehicle'] = recommendation['vehicleId']\n",
    "        print(step)"
   ]
  },
  {
   "cell_type": "markdown",
   "metadata": {},
   "source": [
    "## Case 2: Allow only specific vehicles to perform a task\n",
    "\n",
    "The corresponding task will only be assigned to specific vehicles that have been allowed. `vehicle-1` has been allowed for `task-0`.\n",
    "\n",
    "Even though `vehicle-0` is much closer to `task-0`, the Fleet Planner will assign `vehicle-1` to `task-0` as only that vehicle has been allowed for the task."
   ]
  },
  {
   "cell_type": "code",
   "execution_count": null,
   "metadata": {},
   "outputs": [],
   "source": [
    "allow_pool_ride_request = {\n",
    "    \"optimizeFor\": \"RIDE_HAIL\",\n",
    "    \"vehicles\": {\n",
    "        \"vehicle-0\": {\n",
    "            \"resourceCapacity\": 4,\n",
    "            \"vehicleId\": \"vehicle-0\",\n",
    "            \"position\": {\n",
    "                \"latitude\": 37.788897,\n",
    "                \"longitude\": -122.389669\n",
    "            }\n",
    "        },\n",
    "        \"vehicle-1\": {\n",
    "            \"resourceCapacity\": 3,\n",
    "            \"vehicleId\": \"vehicle-1\",\n",
    "            \"position\": {\n",
    "                \"latitude\": 37.773611,\n",
    "                \"longitude\": -122.421216\n",
    "            }\n",
    "        }\n",
    "    },\n",
    "    \"tasks\": {\n",
    "        \"task-0\": {\n",
    "            \"resourcesRequired\": 1,\n",
    "            \"pickupStep\": {\n",
    "                \"position\": {\n",
    "                    \"latitude\": 37.790329,\n",
    "                    \"longitude\": -122.392231\n",
    "                }\n",
    "            },\n",
    "            \"dropoffStep\": {\n",
    "                \"position\": {\n",
    "                    \"latitude\": 37.795107,\n",
    "                    \"longitude\": -122.393426\n",
    "                }\n",
    "            },\n",
    "            \"whitelistedVehicleId\" : ['vehicle-1']\n",
    "        }\n",
    "    }\n",
    "}\n"
   ]
  },
  {
   "cell_type": "markdown",
   "metadata": {},
   "source": [
    "## Recommendation plan for each vehicle\n",
    "\n",
    "In the response, we will get the recommendation plan for each vehicle"
   ]
  },
  {
   "cell_type": "code",
   "execution_count": null,
   "metadata": {},
   "outputs": [],
   "source": [
    "response = requests.post(get_plan_url, headers=rideos_auth_header, json=allow_pool_ride_request)\n",
    "response_dict = json.loads(response.text)\n",
    "for recommendation in response_dict['recommendations']:\n",
    "    steps = recommendation['planRecommendation']['assignedSteps']\n",
    "    for step in steps:\n",
    "        step['vehicle'] = recommendation['vehicleId']\n",
    "        print(step)"
   ]
  },
  {
   "cell_type": "code",
   "execution_count": null,
   "metadata": {},
   "outputs": [],
   "source": []
  }
 ],
 "metadata": {
  "kernelspec": {
   "display_name": "Python 3",
   "language": "python",
   "name": "python3"
  },
  "language_info": {
   "codemirror_mode": {
    "name": "ipython",
    "version": 3
   },
   "file_extension": ".py",
   "mimetype": "text/x-python",
   "name": "python",
   "nbconvert_exporter": "python",
   "pygments_lexer": "ipython3",
   "version": "3.7.7"
  }
 },
 "nbformat": 4,
 "nbformat_minor": 2
}
