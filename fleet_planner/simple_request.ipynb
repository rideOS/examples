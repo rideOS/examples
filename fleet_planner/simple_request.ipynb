{
 "cells": [
  {
   "cell_type": "markdown",
   "metadata": {},
   "source": [
    "# Using our Fleet Planner API\n",
    "\n",
    "This jupyter notebook will run you through the applications of rideOS' fleet planner API. Here is what we're going to do:\n",
    "\n",
    "1. Get a recommendation plan for a fleet of vehicles and tasks.\n",
    "2. Enable private rides for a task"
   ]
  },
  {
   "cell_type": "code",
   "execution_count": null,
   "metadata": {},
   "outputs": [],
   "source": [
    "import requests\n",
    "import os\n",
    "import json\n",
    "import copy"
   ]
  },
  {
   "cell_type": "markdown",
   "metadata": {},
   "source": [
    "## API Key\n",
    "\n",
    "To run this example, you'll need a rideOS API key. You can sign up for one [here](https://app.rideos.ai/login#lockScreen=signUp) and view it on your [profile page](https://app.rideos.ai/profile), then assign it to the `API_KEY` variable directly or set it as an environment variable to `RIDEOS_API_KEY`:"
   ]
  },
  {
   "cell_type": "code",
   "execution_count": null,
   "metadata": {},
   "outputs": [],
   "source": [
    "# Load the rideOS API key\n",
    "API_KEY = os.getenv(\"RIDEOS_API_KEY\")\n",
    "rideos_auth_header = {\"X-Api-Key\": API_KEY}\n",
    "\n",
    "get_plan_url = 'https://api.rideos.ai/fleet/v2/GetPlan'"
   ]
  },
  {
   "cell_type": "markdown",
   "metadata": {},
   "source": [
    "## Case 1: Get a recommendation plan for a fleet of vehicles and tasks.\n",
    "\n",
    "Input information about the fleet of vehicles and tasks to complete. "
   ]
  },
  {
   "cell_type": "code",
   "execution_count": null,
   "metadata": {},
   "outputs": [],
   "source": [
    "pooled_ride_request = {\n",
    "    \"optimizeFor\": \"RIDE_HAIL\",\n",
    "    \"vehicles\": {\n",
    "        \"vehicle-0\": {\n",
    "            \"resourceCapacity\": 4,\n",
    "            \"vehicleId\": \"vehicle-0\",\n",
    "            \"position\": {\n",
    "                \"latitude\": 37.78861129958993,\n",
    "                \"longitude\": -122.42121679763515\n",
    "            }\n",
    "        }\n",
    "    },\n",
    "    \"tasks\": {\n",
    "        \"task-0\": {\n",
    "            \"resourcesRequired\": 1,\n",
    "            \"pickupStep\": {\n",
    "                \"position\": {\n",
    "                    \"latitude\": 37.788710054546385,\n",
    "                    \"longitude\": -122.42034205962396\n",
    "                }\n",
    "            },\n",
    "            \"dropoffStep\": {\n",
    "                \"position\": {\n",
    "                    \"latitude\": 37.79878236715864,\n",
    "                    \"longitude\": -122.4222166856741\n",
    "                }\n",
    "            }\n",
    "        },\n",
    "        \"task-1\": {\n",
    "            \"resourcesRequired\": 1,\n",
    "            \"pickupStep\": {\n",
    "                \"position\": {\n",
    "                    \"latitude\": 37.78883349777378,\n",
    "                    \"longitude\": -122.41859090561832\n",
    "                }\n",
    "            },\n",
    "            \"dropoffStep\": {\n",
    "                \"position\": {\n",
    "                    \"latitude\": 37.79900453502346,\n",
    "                    \"longitude\": -122.42068402876973\n",
    "                }\n",
    "            }\n",
    "        }\n",
    "    }\n",
    "}\n"
   ]
  },
  {
   "cell_type": "markdown",
   "metadata": {},
   "source": [
    "## Recommendation plan for each vehicle\n",
    "In the response, we will get the recommendation plan for each vehicle"
   ]
  },
  {
   "cell_type": "code",
   "execution_count": null,
   "metadata": {},
   "outputs": [],
   "source": [
    "response = requests.post(get_plan_url, headers=rideos_auth_header, json=pooled_ride_request)\n",
    "response_dict = json.loads(response.text)\n",
    "steps = response_dict['recommendations'][0]['planRecommendation']['assignedSteps']\n",
    "for step in steps:\n",
    "    print(step)"
   ]
  },
  {
   "cell_type": "markdown",
   "metadata": {},
   "source": [
    "## Case 2: Enable private rides for a task\n",
    "\n",
    "Input information about the fleet of vehicles and tasks to complete. `privateRide` of task-0 has been set to true. This task will be served by a vehicle and not pooled with other tasks."
   ]
  },
  {
   "cell_type": "code",
   "execution_count": null,
   "metadata": {},
   "outputs": [],
   "source": [
    "private_ride_request = copy.deepcopy(pooled_ride_request)\n",
    "private_ride_request['tasks']['task-0']['privateRide'] = True"
   ]
  },
  {
   "cell_type": "markdown",
   "metadata": {},
   "source": [
    "## Recommendation plan for each vehicle\n",
    "\n",
    "In the response, we will get the recommendation plan for each vehicle"
   ]
  },
  {
   "cell_type": "code",
   "execution_count": null,
   "metadata": {},
   "outputs": [],
   "source": [
    "response = requests.post(get_plan_url, headers=rideos_auth_header, json=private_ride_request)\n",
    "response_dict = json.loads(response.text)\n",
    "steps = response_dict['recommendations'][0]['planRecommendation']['assignedSteps']\n",
    "for step in steps:\n",
    "    print(step)"
   ]
  },
  {
   "cell_type": "code",
   "execution_count": null,
   "metadata": {},
   "outputs": [],
   "source": []
  }
 ],
 "metadata": {
  "kernelspec": {
   "display_name": "Python 3",
   "language": "python",
   "name": "python3"
  },
  "language_info": {
   "codemirror_mode": {
    "name": "ipython",
    "version": 3
   },
   "file_extension": ".py",
   "mimetype": "text/x-python",
   "name": "python",
   "nbconvert_exporter": "python",
   "pygments_lexer": "ipython3",
   "version": "3.7.7"
  }
 },
 "nbformat": 4,
 "nbformat_minor": 2
}
