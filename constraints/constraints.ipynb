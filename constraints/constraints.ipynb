{
 "cells": [
  {
   "cell_type": "markdown",
   "metadata": {},
   "source": [
    "# Constraints Demo\n",
    "\n",
    "This notebook demonstrates the use of the *Path API* in conjunction with the *Constraint Data API*. First, we walk through the code and some simple examples. Then, we put it all together to show how you could use this technology to produce routes that respect the operational constraints of an autonomous or human fleet.\n",
    "\n",
    "We support specifying the following constraint types, grouped into two categories:\n",
    "\n",
    "Avoid constraints:\n",
    "- **Avoid Area**: Vehicles will avoid all road segments that intersect this polygon.\n",
    "- **Avoid Path**: Vehicles will avoid all road segments that are covered by this path.\n",
    "- **Avoid Turn**: Vehicles will avoid the turn indicated by this path.\n",
    "\n",
    "Operational constraints:\n",
    "- **Operational Area**: Vehicles will be allowed to use roads that intersect this polygon.\n",
    "- **Operational Path**: Vehicles will be allowed to use roads that are covered by this path.\n",
    "\n",
    "Using these we can implement the following concepts for operating a fleet:\n",
    "- **Operational Domain (OD)**: Expressed through operational contraints (e.g. *Operational Path* and *Operational Area*)\n",
    "    - *e.g. Company XYZ is still developing their AV hardware and software, so they limit the operational domain to a network of roads throughout that city that are strategic and feasible. These roads can be identified via Operational Path constraints.*\n",
    "- **Operational Design Domain (ODD)**: Expressed through avoid constraints (e.g. *Avoid Turn*)\n",
    "    - *e.g. Company XYZ must limit operations even further inside their operational domain based on the capabilities which their vehicles are currently able to handle. For example, they currently must avoid all unprotected left turns (UPLs) for safety reasons. These turns can be identified via Avoid Turn constraints.*\n",
    "- **Keep Out Zones (KOZs)**: Expressed through avoid constraints (e.g. *Avoid Area* and *Avoid Path*)\n",
    "    - *e.g. Company XYZ must dynamically adapt to events like parades, street festivals, and construction which restricts travel along roads within their operational domain. These areas can be identified via Avoid Area constraints and be dynamically updated as frequently as necessary.*\n",
    "\n",
    "If you wish to get to the examples and visualizations without looking through the details of the code, skip to the section called [Routing With No Constraints](#Routing-With-No-Constraints)."
   ]
  },
  {
   "cell_type": "markdown",
   "metadata": {},
   "source": [
    "# Setup Code\n",
    "\n",
    "The first snippet of code here is simply doing setup to enable the rest of the code below. One important thing to note is that running this notebook will require that you set two environment variables:\n",
    "- **RIDEOS_API_KEY**: Set to the API key for your developer account at https://app.rideos.ai/profile\n",
    "- **MAPBOX_ACCESS_TOKEN**: Set to an access token for Mapbox as described at https://docs.mapbox.com/help/how-mapbox-works/access-tokens/"
   ]
  },
  {
   "cell_type": "code",
   "execution_count": null,
   "metadata": {
    "scrolled": true
   },
   "outputs": [],
   "source": [
    "!pip install requests\n",
    "!pip install mapboxgl\n",
    "\n",
    "import json\n",
    "import math\n",
    "import os\n",
    "import requests\n",
    "import time\n",
    "import uuid\n",
    "\n",
    "from mapboxgl.viz import LinestringViz\n",
    "\n",
    "# Load the rideOS API key\n",
    "rideos_api_key = os.getenv(\"RIDEOS_API_KEY\")\n",
    "rideos_auth_header = {\"X-Api-Key\": rideos_api_key}\n",
    "\n",
    "# Load the MapBox access token\n",
    "mapbox_access_token = os.getenv(\"MAPBOX_ACCESS_TOKEN\")\n",
    "\n",
    "# Track global lists of constraints for visualization and cleanup\n",
    "constraints = {\n",
    "    \"avoidArea\": [],\n",
    "    \"avoidPath\": [],\n",
    "    \"avoidTurn\": [],\n",
    "    \"operationalArea\": [],\n",
    "    \"operationalPath\": []\n",
    "}"
   ]
  },
  {
   "cell_type": "markdown",
   "metadata": {},
   "source": [
    "# Add Constraint\n",
    "\n",
    "The following method uses the *AddOrReplaceConstraints* method of the *Constraint Data API* to add a new constraint of the given type with the given geometry. A unique ID for the constraint is generated and tracked for later cleanup.\n",
    "\n",
    "*(Note: If cleanup is not done at the end of a run of this notebook, there will be orphaned constraints left in the rideOS database for your account.)*"
   ]
  },
  {
   "cell_type": "code",
   "execution_count": null,
   "metadata": {
    "scrolled": false
   },
   "outputs": [],
   "source": [
    "# Create a constraint of the given type with the given points\n",
    "# The type must be \"avoid<Area|Path|Turn>\" or \"operational<Area|Path>\"\n",
    "# The positions should be given as a list of lat/lng tuples\n",
    "# Prints the type and ID of the constraint that was added\n",
    "def add_constraint(constraint_type, positions):\n",
    "    if not constraint_type in constraints:\n",
    "        raise Exception(\"\" + constraint_type + \"' is not a valid constraint type\")\n",
    "    \n",
    "    # Create a string uuid that uniquely identifies this constraint\n",
    "    constraint_id = str(uuid.uuid4())\n",
    "    \n",
    "    # Create an array of lat/lng dictionaries for the request\n",
    "    request_positions = []\n",
    "    for position in positions:\n",
    "        request_position = {\"latitude\": position[0], \"longitude\": position[1]}\n",
    "        request_positions.append(request_position)\n",
    "\n",
    "    # Construct a constraint request\n",
    "    constraint_api_url = \"https://api.rideos.ai/constraints/v1/AddOrReplaceConstraints\"\n",
    "    constraint_request = {\n",
    "        \"constraints\": [\n",
    "            {\n",
    "                \"id\": constraint_id,\n",
    "                constraint_type: {\n",
    "                    \"positions\": request_positions\n",
    "                },\n",
    "            }\n",
    "        ],\n",
    "    }\n",
    "    \n",
    "    # Print the equivalent curl command for trying out the same API call\n",
    "    print(\"Adding constraint via API request, equivalent curl command below: \")\n",
    "    print(\"------\")\n",
    "    print(\"curl -d '{}' -H 'Content-Type: application/json' -H 'X-Api-Key: {}' -X POST {}\".format(\n",
    "         json.dumps(constraint_request), rideos_api_key, constraint_api_url))\n",
    "    print(\"-----\")\n",
    "    \n",
    "    # Call the constraint API\n",
    "    constraint_response = requests.post(\n",
    "        constraint_api_url,\n",
    "        headers=rideos_auth_header,\n",
    "        json=constraint_request\n",
    "    )\n",
    "    \n",
    "    # If there was an error, just print the details and continue,\n",
    "    # so we can still visualize the constraint that was supposed to be added\n",
    "    try:\n",
    "        constraint_response.raise_for_status()\n",
    "    except requests.exceptions.HTTPError as err:\n",
    "        print(err)\n",
    "        print(constraint_response.text)\n",
    "    \n",
    "    # Add the constraint ID to the corresponding global tracking list\n",
    "    constraints[constraint_type].append({\n",
    "        \"id\": constraint_id,\n",
    "        \"positions\": positions\n",
    "    })\n",
    "    \n",
    "    # Print the constraint type and ID\n",
    "    print(\"Added {} constraint with ID {}\".format(constraint_type, constraint_id))"
   ]
  },
  {
   "cell_type": "markdown",
   "metadata": {},
   "source": [
    "# Assign Vehicle/Fleet Constraints\n",
    "\n",
    "The following method assigns all the created constraints to the vehicle identified in the constant above. This function isn't used in our examples below, but this method can be used to assign constraints to a particular vehicle. \n",
    "\n",
    "A similar function (using `/ride-hail-operations/v1/SetFleetRoutingConstraints`) can be used to assign constraints to an entire fleet."
   ]
  },
  {
   "cell_type": "code",
   "execution_count": null,
   "metadata": {},
   "outputs": [],
   "source": [
    "# Assign constraints to the given vehicle ID\n",
    "# The vehicle ID must be an existing vehicle within the account for the current API key\n",
    "def assign_vehicle_constraints(vehicle_id):\n",
    "    # Identify the constraint IDs for operational and avoid constraints\n",
    "    operational_constraint_ids = []\n",
    "    avoid_constraint_ids = []\n",
    "    for constraint_type, constraint_list in constraints.items():\n",
    "        if constraint_type.startswith(\"operational\"):\n",
    "            for constraint in constraint_list:\n",
    "                operational_constraint_ids.append(constraint[\"id\"])\n",
    "        else:\n",
    "            for constraint in constraint_list:\n",
    "                avoid_constraint_ids.append(constraint[\"id\"])    \n",
    "    \n",
    "    # Construct a vehicle constraint request\n",
    "    vehicle_api_url = \"https://api.rideos.ai/ride-hail-operations/v1/SetVehicleRoutingConstraints\"\n",
    "    vehicle_request = {\n",
    "        \"vehicleId\": vehicle_id,\n",
    "        \"constraints\": {\n",
    "            # these variables will be renamed to operationalConstraintIds and avoidConstraintIds soon\n",
    "            \"whitelistConstraintIds\": operational_constraint_ids,\n",
    "            \"blacklistConstraintIds\": avoid_constraint_ids\n",
    "        },\n",
    "    }\n",
    "    \n",
    "    # Print the equivalent curl command for trying out the same API call\n",
    "    print(\"Assigning constraints to vehicle via API request, equivalent curl command below: \")\n",
    "    print(\"------\")\n",
    "    print(\"curl -d '{}' -H 'Content-Type: application/json' -H 'X-Api-Key: {}' -X POST {}\".format(\n",
    "         json.dumps(vehicle_request), rideos_api_key, vehicle_api_url))\n",
    "    print(\"-----\")\n",
    "    \n",
    "    # Call the vehicle constraint API\n",
    "    vehicle_response = requests.post(\n",
    "        vehicle_api_url,\n",
    "        headers=rideos_auth_header,\n",
    "        json=vehicle_request\n",
    "    )\n",
    "    vehicle_response.raise_for_status()\n",
    "\n",
    "    # Print the constraint type and ID\n",
    "    print(\"Assigned {} constraint(s) to vehicle {}\".format(\n",
    "        len(operational_constraint_ids) + len(avoid_constraint_ids), vehicle_id))"
   ]
  },
  {
   "cell_type": "markdown",
   "metadata": {},
   "source": [
    "# Clear Constraints\n",
    "\n",
    "The following method uses the *DeleteConstraints* method of the *Constraint Data API* to delete all the constraints which have been created in the notebook so far. This uses the IDs tracked above to provide reliable cleanup."
   ]
  },
  {
   "cell_type": "code",
   "execution_count": null,
   "metadata": {
    "scrolled": false
   },
   "outputs": [],
   "source": [
    "# Delete all constraints which were created within this run of the notebook\n",
    "# Prints the number of constraints which were deleted\n",
    "def clear_constraints():\n",
    "    # Get all of the constraint IDs\n",
    "    constraint_ids = []\n",
    "    for constraint_type, constraint_list in constraints.items():\n",
    "        for constraint in constraint_list:\n",
    "            constraint_ids.append(constraint[\"id\"])\n",
    "    \n",
    "    # Construct a delete request\n",
    "    delete_api_url = \"https://api.rideos.ai/constraints/v1/DeleteConstraints\"\n",
    "    delete_request = {\n",
    "        \"ids\": constraint_ids\n",
    "    }\n",
    "    \n",
    "    # Print the equivalent curl command for trying out the same API call\n",
    "    print(\"Clearing constraints via API request, equivalent curl command below: \")\n",
    "    print(\"------\")\n",
    "    print(\"curl -d '{}' -H 'Content-Type: application/json' -H 'X-Api-Key: {}' -X POST {}\".format(\n",
    "         json.dumps(delete_request), rideos_api_key, delete_api_url))\n",
    "    print(\"-----\")\n",
    "    \n",
    "    # Call the delete API\n",
    "    delete_response = requests.post(\n",
    "        delete_api_url,\n",
    "        headers=rideos_auth_header,\n",
    "        json=delete_request\n",
    "    )\n",
    "    delete_response.raise_for_status()\n",
    "    \n",
    "    # Clear the constraint lists\n",
    "    for constraint_type, constraint_list in constraints.items():\n",
    "        del constraint_list[:]\n",
    "    \n",
    "    # Print the number of deleted constraints\n",
    "    print(\"Deleted {} constraint(s)\".format(len(constraint_ids)))"
   ]
  },
  {
   "cell_type": "markdown",
   "metadata": {},
   "source": [
    "# Get Path and Visualize\n",
    "\n",
    "The methods below use the *GetPath* method of the *Path API* to fetch a path, then visualize it on a map. The path is computed between the given start and end points, and it will respect any constraints that were created (using methods below) and not yet cleared.\n",
    "\n",
    "If any **operational constraints** are present, then anything outside of those operational constraints will be avoided. If any **avoid constraints** are present, then anything inside one of those avoid constraints will be avoided. The avoid constraints override the operational constraints.\n",
    "\n",
    "The visualization will show the path and all of the constraints colored by type."
   ]
  },
  {
   "cell_type": "code",
   "execution_count": null,
   "metadata": {
    "scrolled": false
   },
   "outputs": [],
   "source": [
    "# Get the GeoJSON representing a given list of positions\n",
    "# The positions should be lat/lng tuples\n",
    "# Return a GeoJSON linestring object as a dictionary\n",
    "def get_linestring_geojson(positions):\n",
    "    geojson = {\n",
    "        \"type\": \"LineString\",\n",
    "        \"coordinates\": []\n",
    "    }\n",
    "    for position in positions:\n",
    "        geojson_coords = (position[1], position[0])\n",
    "        geojson[\"coordinates\"].append(geojson_coords)\n",
    "    return geojson\n",
    "\n",
    "\n",
    "# Get the GeoJSON approximately representing a circle around the given point\n",
    "# The center should be a lat/lng tuple\n",
    "# The radius is in meters (but the result is approximate)\n",
    "# The number of points determines how many points will be sampled along the circumference\n",
    "# Return a GeoJSON linestring object as a dictionary\n",
    "def get_circle_geojson(center, radius = 3, num_points = 10):\n",
    "    geojson = {\n",
    "        \"type\": \"LineString\",\n",
    "        \"coordinates\": []\n",
    "    }\n",
    "    for i in xrange(num_points):\n",
    "        angle = math.pi * 2 * i / num_points\n",
    "        dx = radius * math.cos(angle)\n",
    "        dy = radius * math.sin(angle)\n",
    "        lat = center[0] + (180 / math.pi) * (dy / 6378137)\n",
    "        lng = center[1] + (180 / math.pi) * (dx / 6378137) / math.cos(center[0] * math.pi / 180)\n",
    "        geojson_coords = (lng, lat)\n",
    "        geojson[\"coordinates\"].append(geojson_coords)\n",
    "    return geojson\n",
    "\n",
    "\n",
    "# Get the center of the minimal bounding box containing the given positions\n",
    "# The positions should be lat/lng tuples\n",
    "# Return a lat/lng tuple representing the center of the bounding box\n",
    "def get_center_of_bounding_box(positions):\n",
    "    # If there are no positions, just return a trivial result\n",
    "    if len(positions) == 0:\n",
    "        return (0, 0)\n",
    "    \n",
    "    # Track the edges of the minimal bounding box\n",
    "    min_lat = 90\n",
    "    max_lat = -90\n",
    "    min_lng = 180\n",
    "    max_lng = -180\n",
    "    \n",
    "    # Find the minimal bounding box \n",
    "    for position in positions:\n",
    "        min_lat = min(min_lat, position[0])\n",
    "        max_lat = max(max_lat, position[0])\n",
    "        min_lng = min(min_lng, position[1])\n",
    "        max_lng = max(max_lng, position[1])\n",
    "    \n",
    "    # Return the center of the minimal bounding box\n",
    "    return ((min_lat + max_lat) / 2, (min_lng + max_lng) / 2)\n",
    "\n",
    "\n",
    "# Fetch and visualize the path from start to end, respecting any current constraints\n",
    "# Start and end should be lat/lng tuples\n",
    "def visualize_path(start, end, zoomLevel = 13):\n",
    "    # Identify the constraint IDs for operational and avoid constraints\n",
    "    operational_constraint_ids = []\n",
    "    avoid_constraint_ids = []\n",
    "    for constraint_type, constraint_list in constraints.items():\n",
    "        if constraint_type.startswith(\"operational\"):\n",
    "            for constraint in constraint_list:\n",
    "                operational_constraint_ids.append(constraint[\"id\"])\n",
    "        else:\n",
    "            for constraint in constraint_list:\n",
    "                avoid_constraint_ids.append(constraint[\"id\"])\n",
    "    \n",
    "    # Construct a path request\n",
    "    path_api_url = \"https://api.rideos.ai/path/v2/GetPath\"\n",
    "    path_request = {\n",
    "        \"waypoints\": [\n",
    "            {\"position\": {\"latitude\": start[0], \"longitude\": start[1]}},\n",
    "            {\"position\": {\"latitude\": end[0], \"longitude\": end[1]}}\n",
    "        ],\n",
    "        \"geometryFormat\": \"LINESTRING\",\n",
    "        \"operationalConstraintIds\": operational_constraint_ids,\n",
    "        \"avoidConstraintIds\": avoid_constraint_ids\n",
    "    }\n",
    "    \n",
    "    # Print the equivalent curl command for trying out the same API call\n",
    "    print(\"Getting path via API request, equivalent curl command below: \")\n",
    "    print(\"------\")\n",
    "    print(\"curl -d '{}' -H 'Content-Type: application/json' -H 'X-Api-Key: {}' -X POST {}\".format(\n",
    "         json.dumps(path_request), rideos_api_key, path_api_url))\n",
    "    print(\"-----\")\n",
    "\n",
    "    # Fetch the path response and parse the JSON\n",
    "    path_response = requests.post(\n",
    "        path_api_url,\n",
    "        headers=rideos_auth_header,\n",
    "        json=path_request\n",
    "    )\n",
    "    path_response.raise_for_status()\n",
    "    path_response_json = path_response.json()\n",
    "    print(\"Successfully found path, visualizing below\")\n",
    "    \n",
    "    # Extract the positions from the path response\n",
    "    positions = []\n",
    "    for path in path_response_json[\"paths\"]:\n",
    "        for leg in path[\"legs\"]:\n",
    "            for position in leg[\"lineString\"][\"positions\"]:\n",
    "                positions.append((position[\"latitude\"], position[\"longitude\"]))\n",
    "\n",
    "    # Get the center of the bounding box and convert to GeoJSON coords (lng/lat)\n",
    "    center = get_center_of_bounding_box(positions)\n",
    "    center_geojson_coords = (center[1], center[0])\n",
    "\n",
    "    # Construct the GeoJSON for the path and constraints\n",
    "    geojson = {\n",
    "       \"type\": \"FeatureCollection\",\n",
    "       \"features\": []\n",
    "    }\n",
    "    for constraint_type, constraint_list in constraints.items():\n",
    "        for constraint in constraint_list:\n",
    "            geojson[\"features\"].append({\n",
    "                \"type\": \"Feature\",\n",
    "                \"id\": constraint[\"id\"],\n",
    "                \"properties\": {\"type\": constraint_type},\n",
    "                \"geometry\": get_linestring_geojson(constraint[\"positions\"])\n",
    "            })\n",
    "    geojson[\"features\"].append({\n",
    "        \"type\": \"Feature\",\n",
    "        \"id\": \"path\",\n",
    "        \"properties\": {\"type\": \"path\"},\n",
    "        \"geometry\": get_linestring_geojson(positions)\n",
    "    })\n",
    "    geojson[\"features\"].append({\n",
    "        \"type\": \"Feature\",\n",
    "        \"id\": \"origin\",\n",
    "        \"properties\": {\"type\": \"origin\"},\n",
    "        \"geometry\": get_circle_geojson(positions[0])\n",
    "    })\n",
    "    geojson[\"features\"].append({\n",
    "        \"type\": \"Feature\",\n",
    "        \"id\": \"destination\",\n",
    "        \"properties\": {\"type\": \"destination\"},\n",
    "        \"geometry\": get_circle_geojson(positions[-1])\n",
    "    })\n",
    "\n",
    "    # Visualize the path in MapBox, centered at the center of the bounding box\n",
    "    viz = LinestringViz(geojson,\n",
    "                        access_token = mapbox_access_token,\n",
    "                        center = center_geojson_coords,\n",
    "                        color_function_type = \"match\",\n",
    "                        color_property = \"type\",\n",
    "                        color_stops = [\n",
    "                            [\"path\", \"#0000ff\"],\n",
    "                            [\"origin\", \"#9cf196\"],\n",
    "                            [\"destination\", \"#ff4893\"],\n",
    "                            [\"avoidArea\", \"#ff0000\"],\n",
    "                            [\"avoidPath\", \"#ff6200\"],\n",
    "                            [\"avoidTurn\", \"#ffbf00\"],\n",
    "                            [\"operationalArea\", \"#009900\"],\n",
    "                            [\"operationalPath\", \"#00cc00\"]\n",
    "                        ],\n",
    "                        line_width_function_type = \"match\",\n",
    "                        line_width_property = \"type\",\n",
    "                        line_width_stops = [\n",
    "                            [\"path\", 3],\n",
    "                            [\"origin\", 10],\n",
    "                            [\"destination\", 10],\n",
    "                            [\"avoidArea\", 5],\n",
    "                            [\"avoidPath\", 5],\n",
    "                            [\"avoidTurn\", 5],\n",
    "                            [\"operationalArea\", 5],\n",
    "                            [\"operationalPath\", 5]\n",
    "                        ],\n",
    "                        opacity = 0.8,\n",
    "                        zoom = zoomLevel)\n",
    "    viz.show()"
   ]
  },
  {
   "cell_type": "raw",
   "metadata": {},
   "source": [
    "# Routing With No Constraints\n",
    "\n",
    "Let's find a path. We have not yet added any constraints, so the first path returned will be the shortest path without any constraints applied.\n",
    "\n",
    "*(Note: If you skipped here from the top of the notebook without running the code above, you will need to click on `Cell > Run All Above` in the top menu in order to prepare the methods used in these examples.*"
   ]
  },
  {
   "cell_type": "code",
   "execution_count": null,
   "metadata": {
    "scrolled": false
   },
   "outputs": [],
   "source": [
    "visualize_path((37.766043, -122.405925), (37.764778, -122.427317), zoomLevel = 13)"
   ]
  },
  {
   "cell_type": "markdown",
   "metadata": {},
   "source": [
    "# Setting an Avoid Area\n",
    "\n",
    "Now we add an *avoidArea* constraint, which will force the route to travel around the area defined by the given polygon."
   ]
  },
  {
   "cell_type": "code",
   "execution_count": null,
   "metadata": {
    "scrolled": false
   },
   "outputs": [],
   "source": [
    "clear_constraints()\n",
    "\n",
    "add_constraint(\"avoidArea\", [\n",
    "    (37.765337, -122.411971), (37.765406, -122.410998), (37.765796, -122.411048),\n",
    "    (37.765746, -122.412034), (37.765337, -122.411971)])"
   ]
  },
  {
   "cell_type": "markdown",
   "metadata": {},
   "source": [
    "Now we attempt to find the re-routed path.\n",
    "\n",
    "It takes some time for new constraints to propagate through the rideOS services, but that time is typically less than 15 seconds. We use a sleep statement here and below to allow for this propagation before attempting to re-route. If the path does not avoid the *avoidArea* constrained roads, try re-running just this visualize step again. Perhaps the constraint needed more time to propagate."
   ]
  },
  {
   "cell_type": "code",
   "execution_count": null,
   "metadata": {
    "scrolled": false
   },
   "outputs": [],
   "source": [
    "print(\"Waiting 2 minutes for constraints to propagate...\")\n",
    "time.sleep(120)\n",
    "\n",
    "visualize_path((37.766043, -122.405925), (37.764778, -122.427317), zoomLevel = 13)"
   ]
  },
  {
   "cell_type": "markdown",
   "metadata": {},
   "source": [
    "# Setting an Avoid Path\n",
    "\n",
    "Now we clear the constraints, and add an *avoidPath* constraint, which will force the route to travel around the road that matches the given path most closely."
   ]
  },
  {
   "cell_type": "code",
   "execution_count": null,
   "metadata": {
    "scrolled": false
   },
   "outputs": [],
   "source": [
    "clear_constraints()\n",
    "\n",
    "add_constraint(\"avoidPath\", [\n",
    "    (37.765766, -122.408105), (37.765387, -122.414523)])"
   ]
  },
  {
   "cell_type": "markdown",
   "metadata": {},
   "source": [
    "Now we attempt to find the re-routed path.\n",
    "\n",
    "If the path does not avoid the *avoidPath* constrained roads, try re-running just this visualize step again. Perhaps the constraint needed more time to propagate."
   ]
  },
  {
   "cell_type": "code",
   "execution_count": null,
   "metadata": {
    "scrolled": false
   },
   "outputs": [],
   "source": [
    "print(\"Waiting 2 minutes for constraints to propagate...\")\n",
    "time.sleep(120)\n",
    "\n",
    "visualize_path((37.766043, -122.405925), (37.764778, -122.427317), zoomLevel = 13)"
   ]
  },
  {
   "cell_type": "markdown",
   "metadata": {},
   "source": [
    "# Setting an Avoid Turn\n",
    "\n",
    "First, let us consider a route that includes a right turn."
   ]
  },
  {
   "cell_type": "code",
   "execution_count": null,
   "metadata": {
    "scrolled": true
   },
   "outputs": [],
   "source": [
    "clear_constraints()\n",
    "\n",
    "visualize_path((37.766043, -122.405925), (37.766425, -122.410431), zoomLevel = 13)"
   ]
  },
  {
   "cell_type": "markdown",
   "metadata": {},
   "source": [
    "Now we consider an *avoidTurn* constraint, which will force the route to travel around the turn through an intersection that matches the given angle most closely."
   ]
  },
  {
   "cell_type": "code",
   "execution_count": null,
   "metadata": {
    "scrolled": false
   },
   "outputs": [],
   "source": [
    "add_constraint(\"avoidTurn\", [\n",
    "    (37.765627, -122.410249), (37.765636, -122.410506), (37.765814, -122.410538)])"
   ]
  },
  {
   "cell_type": "markdown",
   "metadata": {},
   "source": [
    "Now we attempt to find the re-routed path.\n",
    "\n",
    "If the path does not avoid the *avoidTurn* constrained turn, try re-running just this visualize step again. Perhaps the constraint needed more time to propagate."
   ]
  },
  {
   "cell_type": "code",
   "execution_count": null,
   "metadata": {
    "scrolled": false
   },
   "outputs": [],
   "source": [
    "print(\"Waiting 2 minutes for constraints to propagate...\")\n",
    "time.sleep(120)\n",
    "\n",
    "visualize_path((37.766043, -122.405925), (37.766425, -122.410431), zoomLevel = 13)"
   ]
  },
  {
   "cell_type": "markdown",
   "metadata": {},
   "source": [
    "# Setting an Operational Area\n",
    "\n",
    "First, let us consider a route that should be a straight path."
   ]
  },
  {
   "cell_type": "code",
   "execution_count": null,
   "metadata": {},
   "outputs": [],
   "source": [
    "clear_constraints()\n",
    "\n",
    "visualize_path((37.76465, -122.41540), (37.759418, -122.414847), zoomLevel = 14)"
   ]
  },
  {
   "cell_type": "markdown",
   "metadata": {},
   "source": [
    "Now we add an *operationalArea* constraint, which will force the route to travel within the area defined by the given polygon."
   ]
  },
  {
   "cell_type": "code",
   "execution_count": null,
   "metadata": {
    "scrolled": false
   },
   "outputs": [],
   "source": [
    "add_constraint(\"operationalArea\", [\n",
    "    (37.76597,-122.41455), (37.76563,-122.41592), (37.76431,-122.41592),\n",
    "    (37.76336,-122.42438), (37.75780,-122.42390), (37.75827,-122.41395),\n",
    "    (37.76126,-122.41439), (37.76071,-122.42198), (37.76258,-122.42233),\n",
    "    (37.76319,-122.41430),\n",
    "    (37.76597,-122.41455)\n",
    "])"
   ]
  },
  {
   "cell_type": "markdown",
   "metadata": {},
   "source": [
    "Now we attempt to find the re-routed path.\n",
    "\n",
    "If the path does not stay within the *operationalArea* roads, try re-running just this visualize step again. Perhaps the constraint needed more time to propagate."
   ]
  },
  {
   "cell_type": "code",
   "execution_count": null,
   "metadata": {
    "scrolled": false
   },
   "outputs": [],
   "source": [
    "print(\"Waiting 2 minutes for constraints to propagate...\")\n",
    "time.sleep(120)\n",
    "\n",
    "visualize_path((37.76465, -122.41540), (37.759418, -122.414847), zoomLevel = 14)"
   ]
  },
  {
   "cell_type": "markdown",
   "metadata": {},
   "source": [
    "# Setting an Operational Path\n",
    "\n",
    "Now we clear the constraints, and add an *operationalPath* constraint, which will allow the route to travel along the road that matches the given path most closely."
   ]
  },
  {
   "cell_type": "code",
   "execution_count": null,
   "metadata": {
    "scrolled": true
   },
   "outputs": [],
   "source": [
    "clear_constraints()\n",
    "\n",
    "add_constraint(\"operationalPath\", [\n",
    "    (37.76518,-122.41533), (37.76370,-122.41517), (37.76376,-122.41365),\n",
    "    (37.76215,-122.41408), (37.76221,-122.41285), (37.76060,-122.41270),\n",
    "    (37.76050,-122.41490), (37.75811,-122.41466)\n",
    "])"
   ]
  },
  {
   "cell_type": "markdown",
   "metadata": {},
   "source": [
    "Now we attempt to find the re-routed path.\n",
    "\n",
    "If the path does not use the *operationalPath* road as a shortcut, try re-running just this visualize step again. Perhaps the constraint needed more time to propagate."
   ]
  },
  {
   "cell_type": "code",
   "execution_count": null,
   "metadata": {
    "scrolled": false
   },
   "outputs": [],
   "source": [
    "print(\"Waiting 2 minutes for constraints to propagate...\")\n",
    "time.sleep(120)\n",
    "\n",
    "visualize_path((37.76465, -122.41540), (37.759418, -122.414847), zoomLevel = 14)"
   ]
  },
  {
   "cell_type": "markdown",
   "metadata": {},
   "source": [
    "# Implementing a Complex Operational Domain\n",
    "\n",
    "In the real world, an operational domain is composed of a number of directed roads and possibly some dense areas as well. Combining operational and avoid constraints together can produce an arbitrarily complex operational domain. Below, we define an example using a set of *operationalPath* constraints for each directed road."
   ]
  },
  {
   "cell_type": "code",
   "execution_count": null,
   "metadata": {
    "scrolled": true
   },
   "outputs": [],
   "source": [
    "clear_constraints()\n",
    "\n",
    "add_constraint(\"operationalArea\", [\n",
    "    (37.76597,-122.41455), (37.76563,-122.41592), (37.76431,-122.41592),\n",
    "    (37.76336,-122.42438), (37.75780,-122.42390), (37.75827,-122.41395),\n",
    "    (37.76126,-122.41439), (37.76071,-122.42198), (37.76258,-122.42233),\n",
    "    (37.76319,-122.41430),\n",
    "    (37.76597,-122.41455)\n",
    "])\n",
    "\n",
    "add_constraint(\"avoidPath\", [\n",
    "    (37.76140,-122.42389), (37.76027,-122.42375)])\n",
    "\n",
    "#assign_vehicle_constraints(\"some_vehicle_id\")"
   ]
  },
  {
   "cell_type": "markdown",
   "metadata": {},
   "source": [
    "Now we attempt to find some paths within the operational domain.\n",
    "\n",
    "If the paths do not stay within the operational domain, try re-running just this visualize step again. Perhaps the constraints needed more time to propagate."
   ]
  },
  {
   "cell_type": "code",
   "execution_count": null,
   "metadata": {
    "scrolled": true
   },
   "outputs": [],
   "source": [
    "print(\"Waiting 2 minutes for constraints to propagate...\")\n",
    "time.sleep(120)\n",
    "\n",
    "visualize_path((37.76465, -122.41540), (37.759418, -122.414847), zoomLevel = 14)\n",
    "\n",
    "visualize_path((37.759418, -122.414847), (37.76465, -122.41540), zoomLevel = 14)"
   ]
  },
  {
   "cell_type": "markdown",
   "metadata": {},
   "source": [
    "# Clean Up\n",
    "\n",
    "Now that we're all done, let's clean up all the constraints we created, so we don't leave orphaned test constraints in the rideOS database."
   ]
  },
  {
   "cell_type": "code",
   "execution_count": null,
   "metadata": {
    "scrolled": false
   },
   "outputs": [],
   "source": [
    "clear_constraints()\n",
    "#assign_vehicle_constraints(\"some_vehicle_id\")"
   ]
  }
 ],
 "metadata": {
  "kernelspec": {
   "display_name": "Python 3",
   "language": "python",
   "name": "python3"
  },
  "language_info": {
   "codemirror_mode": {
    "name": "ipython",
    "version": 2
   },
   "file_extension": ".py",
   "mimetype": "text/x-python",
   "name": "python",
   "nbconvert_exporter": "python",
   "pygments_lexer": "ipython2",
   "version": "2.7.15"
  }
 },
 "nbformat": 4,
 "nbformat_minor": 2
}
