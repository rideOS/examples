{
 "cells": [
  {
   "cell_type": "markdown",
   "metadata": {},
   "source": [
    "## Pre-schedule trips using Ridehail API\n",
    "\n",
    "Currently, the Ridehail API supports on demand requests. In this tutorial, we will use this feature to cater to pre-scheduled trips. Here is what we are going to do:\n",
    "\n",
    "1. Create a fleet and add a vehicle to the fleet.\n",
    "2. Update the state (position and readiness) of the vehicle and set it to accept rides.\n",
    "3. Create a pre-scheduled trip request.\n",
    "4. Request another trip to simulate an on-demand request. A vehicle will be assigned to this trip only if it able to complete the trip before the pre-scheduled trip starts.\n",
    "5. Complete all the steps of the on-demand trip.\n",
    "6. Complete all the steps of the pre-scheduled trip.\n",
    "7. Clean up vehicle and the fleet."
   ]
  },
  {
   "cell_type": "code",
   "execution_count": null,
   "metadata": {},
   "outputs": [],
   "source": [
    "import requests\n",
    "import json\n",
    "import uuid\n",
    "from datetime import datetime,timedelta"
   ]
  },
  {
   "cell_type": "markdown",
   "metadata": {},
   "source": [
    "## API Key\n",
    "\n",
    "To run this example, you'll need a rideOS API key. You can sign up for one [here](https://app.rideos.ai/login#lockScreen=signUp) and view it on your [profile page](https://app.rideos.ai/profile), then assign it to the `API_KEY` variable below:\n"
   ]
  },
  {
   "cell_type": "code",
   "execution_count": null,
   "metadata": {},
   "outputs": [],
   "source": [
    "# IMPORTANT: replace \"YOUR_RIDEOS_API_KEY\" with your actual rideOS API key\n",
    "API_KEY = \"YOUR_RIDEOS_API_KEY\"\n",
    "\n",
    "AUTHORIZATION_HEADER = {\"X-Api-Key\": API_KEY}"
   ]
  },
  {
   "cell_type": "markdown",
   "metadata": {},
   "source": [
    "## Creating UUIDs\n",
    "\n",
    "Creating fleet, vehicle and rider uuids using uuid4."
   ]
  },
  {
   "cell_type": "code",
   "execution_count": null,
   "metadata": {},
   "outputs": [],
   "source": [
    "fleet_id = str(uuid.uuid4())\n",
    "vehicle_id = str(uuid.uuid4())\n",
    "pre_scheduled_rider_id = str(uuid.uuid4())\n",
    "on_demand_rider_id = str(uuid.uuid4())\n",
    "pre_scheduled_trip_id = str(uuid.uuid4())\n",
    "on_demand_trip_id = str(uuid.uuid4())\n",
    "\n",
    "print(\"Fleet id: \" + fleet_id)\n",
    "print(\"Vehicle id: \" + vehicle_id)\n",
    "print(\"Pre-scheduled Rider id: \" + pre_scheduled_rider_id)\n",
    "print(\"On-demand Rider id: \" + on_demand_rider_id)\n",
    "print(\"Pre-scheduled trip id: \" + pre_scheduled_trip_id)\n",
    "print(\"On-demand trip id: \" + on_demand_trip_id)"
   ]
  },
  {
   "cell_type": "markdown",
   "metadata": {},
   "source": [
    "## Step 1:  Create a fleet\n",
    "\n",
    "Creating a fleet."
   ]
  },
  {
   "cell_type": "code",
   "execution_count": null,
   "metadata": {},
   "outputs": [],
   "source": [
    "CREATE_FLEET_URL = \"https://api.rideos.ai/ride-hail-operations/v1/CreateFleet\"\n",
    "\n",
    "create_fleet_request = {\n",
    "    \"id\": fleet_id,\n",
    "    \"info\": {\n",
    "        \"display_name\": \"Sample Application Fleet\"\n",
    "    }\n",
    "}\n",
    "\n",
    "response = requests.post(\n",
    "    CREATE_FLEET_URL,\n",
    "    headers=AUTHORIZATION_HEADER,\n",
    "    json=create_fleet_request\n",
    ")\n",
    "response.raise_for_status()\n",
    "\n",
    "create_fleet_response = response.json()\n",
    "\n",
    "print(\"Got successful create fleet response:\")\n",
    "print(json.dumps(create_fleet_response, indent=4))\n"
   ]
  },
  {
   "cell_type": "markdown",
   "metadata": {},
   "source": [
    "### Create a Vehicle\n",
    "\n",
    "Adding a vehicle to a fleet using ride-hail-driver. Each vehicle can only belong to one fleet."
   ]
  },
  {
   "cell_type": "code",
   "execution_count": null,
   "metadata": {},
   "outputs": [],
   "source": [
    "CREATE_VEHICLE_URL = \"https://api.rideos.ai/ride-hail-driver/v1/CreateVehicle\"\n",
    "\n",
    "create_vehicle_request = {\n",
    "    \"id\": vehicle_id,\n",
    "    \"fleet_id\": fleet_id,\n",
    "    \"definition\": {\n",
    "        \"rider_capacity\": 4\n",
    "    },\n",
    "    \"info\": {\n",
    "        \"driver_info\": {\n",
    "            \"contact_info\": {\n",
    "                \"name\": \"sample app driver1\",\n",
    "                \"phone_number\": 987654321\n",
    "            }\n",
    "        },\n",
    "        \"properties\": {\n",
    "            \"make\": \"Toyota\",\n",
    "            \"model\": \"Camry\"\n",
    "        }\n",
    "    }\n",
    "}\n",
    "    \n",
    "response = requests.post(\n",
    "    CREATE_VEHICLE_URL,\n",
    "    headers=AUTHORIZATION_HEADER,\n",
    "    json=create_vehicle_request\n",
    ")\n",
    "response.raise_for_status()\n",
    "\n",
    "create_vehicle_response = response.json()\n",
    "\n",
    "print(\"Got successful create vehicle response:\")\n",
    "print(json.dumps(create_vehicle_response, indent=4))"
   ]
  },
  {
   "cell_type": "markdown",
   "metadata": {},
   "source": [
    "## Step 2: Update vehicle state and position\n",
    "\n",
    "Setting the vehicle's current position by updating the vehicle state."
   ]
  },
  {
   "cell_type": "code",
   "execution_count": null,
   "metadata": {},
   "outputs": [],
   "source": [
    "UPDATE_VEHICLE_STATE_URL = \"https://api.rideos.ai/ride-hail-driver/v1/UpdateVehicleState\"\n",
    "\n",
    "update_vehicle_state_request = {\n",
    "    \"id\": vehicle_id,\n",
    "    \"update_position\": {\n",
    "        \"updated_position\": { # San Francisco\n",
    "            \"latitude\": 37.788897, \n",
    "            \"longitude\": -122.389669\n",
    "        },\n",
    "        \"updated_heading\": 0.0\n",
    "    }\n",
    "}\n",
    "    \n",
    "response = requests.post(\n",
    "    UPDATE_VEHICLE_STATE_URL,\n",
    "    headers=AUTHORIZATION_HEADER,\n",
    "    json=update_vehicle_state_request\n",
    ")\n",
    "response.raise_for_status()\n",
    "\n",
    "update_vehicle_state_response = response.json()\n",
    "\n",
    "print(\"Got successful update vehicle state response:\")\n",
    "print(json.dumps(update_vehicle_state_response, indent=4))"
   ]
  },
  {
   "cell_type": "markdown",
   "metadata": {},
   "source": [
    "### Update vehicle to accept rides\n",
    "\n",
    "Marking the vehicle to accept rides by updating the vehicle state."
   ]
  },
  {
   "cell_type": "code",
   "execution_count": null,
   "metadata": {},
   "outputs": [],
   "source": [
    "UPDATE_VEHICLE_STATE_URL = \"https://api.rideos.ai/ride-hail-driver/v1/UpdateVehicleState\"\n",
    "\n",
    "update_vehicle_state_request = {\n",
    "    \"id\": vehicle_id,\n",
    "    \"set_to_accept_rides\": {}\n",
    "}\n",
    "    \n",
    "response = requests.post(\n",
    "    UPDATE_VEHICLE_STATE_URL,\n",
    "    headers=AUTHORIZATION_HEADER,\n",
    "    json=update_vehicle_state_request\n",
    ")\n",
    "response.raise_for_status()\n",
    "\n",
    "update_vehicle_state_response = response.json()\n",
    "\n",
    "print(\"Got successful update vehicle state response:\")\n",
    "print(json.dumps(update_vehicle_state_response, indent=4))"
   ]
  },
  {
   "cell_type": "markdown",
   "metadata": {},
   "source": [
    "## Step 3: Create a prescheduled trip request (trip-1)\n",
    "\n",
    "Create a trip request for a later time. We are going to create a trip with a pick up time window. In this example, the rider must be picked up at 30 minutes from now and no later than 35 minutes from now. "
   ]
  },
  {
   "cell_type": "code",
   "execution_count": null,
   "metadata": {},
   "outputs": [],
   "source": [
    "REQUEST_TRIP_URL = \"https://api.rideos.ai/ride-hail-rider/v1/RequestTripRC\"\n",
    "\n",
    "request_trip_request = {\n",
    "   \"id\": pre_scheduled_trip_id,\n",
    "   \"rider_id\": pre_scheduled_rider_id,\n",
    "   \"fleet_id\": fleet_id,\n",
    "   \"definition\":{\n",
    "      \"pickup_dropoff\":{\n",
    "         \"pickup\":{\n",
    "            \"position\":{\n",
    "               \"latitude\":37.794682, \n",
    "               \"longitude\":-122.411480\n",
    "            }\n",
    "         },\n",
    "         \"dropoff\":{\n",
    "            \"position\":{\n",
    "               \"latitude\": 37.802372,\n",
    "               \"longitude\": -122.418729\n",
    "            }\n",
    "         },\n",
    "         \"rider_count\":2\n",
    "      }\n",
    "   },\n",
    "   \"info\":{\n",
    "      \"rider_info\":{\n",
    "         \"contact_info\":{\n",
    "            \"name\":\"sample app rider1\",\n",
    "            \"phone_number\":123456789\n",
    "         }\n",
    "      }\n",
    "   },\n",
    "   \"dispatchParameters\":{\n",
    "      \"requiredPickupTimeWindow\":{\n",
    "          \"earliestTime\": (datetime.utcnow()+timedelta(minutes=30)).strftime(\"%Y-%m-%dT%H:%M:%S%ZZ\"),\n",
    "          \"latestTime\":  (datetime.utcnow()+timedelta(minutes=35)).strftime(\"%Y-%m-%dT%H:%M:%S%ZZ\")\n",
    "      }\n",
    "   }\n",
    "}\n",
    "\n",
    "response = requests.post(\n",
    "    REQUEST_TRIP_URL,\n",
    "    headers=AUTHORIZATION_HEADER,\n",
    "    json=request_trip_request\n",
    ")\n",
    "response.raise_for_status()\n",
    "\n",
    "request_trip_response = response.json()\n",
    "\n",
    "print(\"Got successful request trip response:\")\n",
    "print(json.dumps(request_trip_response, indent=4))"
   ]
  },
  {
   "cell_type": "markdown",
   "metadata": {},
   "source": [
    "### Get the current status of the trip \n",
    "Check the state of the rider's trip which should be `DrivingToPickup`. We will also get the step IDs of the next steps  required to succesfully complete the trip i.e drive to pickup location, pick up the rider, drive to destination, and drop off the rider.\n",
    "\n",
    "Something to note: if GetTripStateRC is called really quickly after RequestTrip, we might not have a vehicle assigned yet. In that situation, wait a couple seconds and re-run the cell. "
   ]
  },
  {
   "cell_type": "code",
   "execution_count": null,
   "metadata": {},
   "outputs": [],
   "source": [
    "GET_TRIP_STATE_URL = \"https://api.rideos.ai/ride-hail-rider/v1/GetTripStateRC\"\n",
    "\n",
    "get_trip_state_request = {\n",
    "    \"id\": pre_scheduled_trip_id\n",
    "}\n",
    "\n",
    "response = requests.post(\n",
    "    GET_TRIP_STATE_URL,\n",
    "    headers=AUTHORIZATION_HEADER,\n",
    "    json=get_trip_state_request\n",
    ")\n",
    "response.raise_for_status()\n",
    "\n",
    "get_trip_state_response = response.json()\n",
    "\n",
    "pre_scheduled_step_ids = []\n",
    "for i in range(4):\n",
    "    step_id = get_trip_state_response['state']['drivingToPickup']['assignedVehicle']['planThroughTripEnd']['step'][i]['id']\n",
    "    dict = {\"stepId\": step_id}\n",
    "    pre_scheduled_step_ids.append(dict)\n",
    "    \n",
    "print(\"Got successful get trip state response:\")\n",
    "print(json.dumps(get_trip_state_response, indent=4))"
   ]
  },
  {
   "cell_type": "markdown",
   "metadata": {},
   "source": [
    "## Step 4: Request another trip (trip-2)\n",
    "\n",
    "Request another trip to simulate an on-demand request received in real time. In such a trip, we will set the drop off time as 30 mins from now. The vehicle will be assigned to this trip if the trip can be completed before the pre-schedule trip begins. The current status of the trip can be checked by calling the `GetTripStateRC` endpoint."
   ]
  },
  {
   "cell_type": "code",
   "execution_count": null,
   "metadata": {},
   "outputs": [],
   "source": [
    "REQUEST_TRIP_URL = \"https://api.rideos.ai/ride-hail-rider/v1/RequestTripRC\"\n",
    "\n",
    "request_trip_request = {\n",
    "   \"id\": on_demand_trip_id,\n",
    "   \"rider_id\": on_demand_rider_id,\n",
    "   \"fleet_id\": fleet_id,\n",
    "   \"definition\":{\n",
    "      \"pickup_dropoff\":{\n",
    "         \"pickup\":{\n",
    "            \"position\":{\n",
    "               \"latitude\":37.790329,\n",
    "               \"longitude\":-122.392231\n",
    "            }\n",
    "         },\n",
    "         \"dropoff\":{\n",
    "            \"position\":{\n",
    "               \"latitude\":37.795107,\n",
    "               \"longitude\":-122.393426\n",
    "            }\n",
    "         },\n",
    "         \"rider_count\":2\n",
    "      }\n",
    "   },\n",
    "   \"info\":{\n",
    "      \"rider_info\":{\n",
    "         \"contact_info\":{\n",
    "            \"name\":\"sample app rider2\",\n",
    "            \"phone_number\":123456789\n",
    "         }\n",
    "      }\n",
    "   },\n",
    "   \"dispatchParameters\":{\n",
    "      \"requiredDropoffTimeWindow\":{\n",
    "         \"latestTime\": (datetime.utcnow()+timedelta(minutes=30)).strftime(\"%Y-%m-%dT%H:%M:%S%ZZ\")\n",
    "      }\n",
    "   }\n",
    "}\n",
    "\n",
    "response = requests.post(\n",
    "    REQUEST_TRIP_URL,\n",
    "    headers=AUTHORIZATION_HEADER,\n",
    "    json=request_trip_request\n",
    ")\n",
    "response.raise_for_status()\n",
    "\n",
    "request_trip_response = response.json()\n",
    "\n",
    "print(\"Got successful request trip response:\")\n",
    "print(json.dumps(request_trip_response, indent=4))"
   ]
  },
  {
   "cell_type": "markdown",
   "metadata": {},
   "source": [
    "### Get the current status of the trip\n",
    "Check the state of the rider's trip which should be `DrivingToPickup`. We will also get the step IDs of the next steps  required to succesfully complete the trip i.e drive to pickup location, pick up the rider, drive to destination, and drop off the rider.\n",
    "\n",
    "Something to note: if GetTripStateRC is called really quickly after RequestTrip, we might not have a vehicle assigned yet. In that situation, wait a couple seconds and re-run the cell. "
   ]
  },
  {
   "cell_type": "code",
   "execution_count": null,
   "metadata": {},
   "outputs": [],
   "source": [
    "GET_TRIP_STATE_URL = \"https://api.rideos.ai/ride-hail-rider/v1/GetTripStateRC\"\n",
    "\n",
    "get_trip_state_request = {\n",
    "    \"id\": on_demand_trip_id\n",
    "}\n",
    "\n",
    "response = requests.post(\n",
    "    GET_TRIP_STATE_URL,\n",
    "    headers=AUTHORIZATION_HEADER,\n",
    "    json=get_trip_state_request\n",
    ")\n",
    "response.raise_for_status()\n",
    "\n",
    "get_trip_state_response = response.json()\n",
    "\n",
    "on_demand_step_ids = []\n",
    "for i in range(4):\n",
    "    step_id = get_trip_state_response['state']['drivingToPickup']['assignedVehicle']['planThroughTripEnd']['step'][i]['id']\n",
    "    dict = {\"stepId\": step_id}\n",
    "    on_demand_step_ids.append(dict)\n",
    "\n",
    "print(\"Got successful get trip state response:\")\n",
    "print(json.dumps(get_trip_state_response, indent=4))"
   ]
  },
  {
   "cell_type": "markdown",
   "metadata": {},
   "source": [
    "## Step 5: Complete on-demand trip (trip-2)\n",
    "Complete all the steps of trip-2 from drive to pick up location to drop off rider."
   ]
  },
  {
   "cell_type": "markdown",
   "metadata": {},
   "source": [
    "#### Method to call `CompleteSteps` endpoint"
   ]
  },
  {
   "cell_type": "code",
   "execution_count": null,
   "metadata": {},
   "outputs": [],
   "source": [
    "def complete_steps(trip_id, step_ids):\n",
    "    COMPLETE_STEP_URL = \"https://api.rideos.ai/ride-hail-driver/v1/CompleteSteps\"\n",
    "\n",
    "    complete_step_request = {\n",
    "        \"vehicle_id\": vehicle_id,\n",
    "        \"trip_id\": trip_id,\n",
    "        \"stepsToComplete\": step_ids\n",
    "    }\n",
    "\n",
    "    response = requests.post(\n",
    "        COMPLETE_STEP_URL,\n",
    "        headers=AUTHORIZATION_HEADER,\n",
    "        json=complete_step_request\n",
    "    )\n",
    "    response.raise_for_status()\n",
    "\n",
    "    complete_step_response = response.json()\n",
    "\n",
    "    print(\"Got successful complete steps response:\")\n",
    "    print(json.dumps(complete_step_response, indent=4))"
   ]
  },
  {
   "cell_type": "markdown",
   "metadata": {},
   "source": [
    "#### Call `CompleteSteps` endpoint to complete multiple steps of the plan"
   ]
  },
  {
   "cell_type": "code",
   "execution_count": null,
   "metadata": {},
   "outputs": [],
   "source": [
    "complete_steps(on_demand_trip_id, on_demand_step_ids)"
   ]
  },
  {
   "cell_type": "markdown",
   "metadata": {},
   "source": [
    "## Step 6: Complete pre-schedule trip (trip-1)\n",
    "Complete all the steps of trip-1 from drive to pick up location to drop off rider."
   ]
  },
  {
   "cell_type": "code",
   "execution_count": null,
   "metadata": {},
   "outputs": [],
   "source": [
    "complete_steps(pre_scheduled_trip_id, pre_scheduled_step_ids)"
   ]
  },
  {
   "cell_type": "markdown",
   "metadata": {},
   "source": [
    "## Step 7: Clean up fleet\n",
    "\n",
    "Remove the vehicle and fleet"
   ]
  },
  {
   "cell_type": "code",
   "execution_count": null,
   "metadata": {},
   "outputs": [],
   "source": [
    "REMOVE_VEHICLE_URL = \"https://api.rideos.ai/ride-hail-driver/v1/RemoveVehicle\"\n",
    "\n",
    "remove_vehicle_request = {\n",
    "    \"id\": vehicle_id\n",
    "}\n",
    "\n",
    "response = requests.post(\n",
    "    REMOVE_VEHICLE_URL,\n",
    "    headers=AUTHORIZATION_HEADER,\n",
    "    json=remove_vehicle_request\n",
    ")\n",
    "response.raise_for_status()\n",
    "\n",
    "remove_vehicle_response = response.json()\n",
    "\n",
    "print(\"Got successful remove vehicle response:\")\n",
    "print(json.dumps(remove_vehicle_response, indent=4))"
   ]
  },
  {
   "cell_type": "markdown",
   "metadata": {},
   "source": [
    "### Remove the fleet"
   ]
  },
  {
   "cell_type": "code",
   "execution_count": null,
   "metadata": {},
   "outputs": [],
   "source": [
    "REMOVE_FLEET_URL = \"https://api.rideos.ai/ride-hail-operations/v1/RemoveFleet\"\n",
    "\n",
    "remove_fleet_request = {\n",
    "    \"id\": fleet_id\n",
    "}\n",
    "\n",
    "response = requests.post(\n",
    "    REMOVE_FLEET_URL,\n",
    "    headers=AUTHORIZATION_HEADER,\n",
    "    json=remove_fleet_request\n",
    ")\n",
    "response.raise_for_status()\n",
    "\n",
    "remove_fleet_response = response.json()\n",
    "\n",
    "print(\"Got successful remove fleet response:\")\n",
    "print(json.dumps(remove_fleet_response, indent=4))"
   ]
  },
  {
   "cell_type": "code",
   "execution_count": null,
   "metadata": {},
   "outputs": [],
   "source": []
  }
 ],
 "metadata": {
  "kernelspec": {
   "display_name": "Python 3",
   "language": "python",
   "name": "python3"
  },
  "language_info": {
   "codemirror_mode": {
    "name": "ipython",
    "version": 3
   },
   "file_extension": ".py",
   "mimetype": "text/x-python",
   "name": "python",
   "nbconvert_exporter": "python",
   "pygments_lexer": "ipython3",
   "version": "3.7.7"
  }
 },
 "nbformat": 4,
 "nbformat_minor": 4
}
