{
 "cells": [
  {
   "cell_type": "markdown",
   "metadata": {
    "collapsed": true,
    "pycharm": {
     "name": "#%% md\n"
    }
   },
   "source": [
    "# Using our new API"
   ]
  },
  {
   "cell_type": "code",
   "execution_count": null,
   "metadata": {
    "pycharm": {
     "is_executing": false,
     "name": "#%%\n"
    }
   },
   "outputs": [],
   "source": [
    "!pip install requests\n",
    "\n",
    "import requests\n",
    "import json\n",
    "import uuid"
   ]
  },
  {
   "cell_type": "markdown",
   "metadata": {
    "pycharm": {
     "name": "#%% md\n"
    }
   },
   "source": [
    "## API Key\n",
    "\n",
    "To run this example, you'll need a rideOS API key. You can sign up for one [here](https://app.rideos.ai/) and view it on your [profile page](https://app.rideos.ai/profile), then assign it to the `API_KEY` variable below:\n"
   ]
  },
  {
   "cell_type": "code",
   "execution_count": null,
   "metadata": {
    "pycharm": {
     "is_executing": false,
     "name": "#%%\n"
    }
   },
   "outputs": [],
   "source": [
    "# IMPORTANT: replace \"YOUR_RIDEOS_API_KEY\" with your actual rideOS API key\n",
    "API_KEY = \"f6Bokm5uX1wrHw1jLm7eCfQj9wj1gIAV:zfeYm_0FasXbS1vfOHguQaMDqK183wSsGeTj60XqfIY8YU5oNkf3d6_vZz7EzmMT\"\n",
    "\n",
    "AUTHORIZATION_HEADER = {\"X-Api-Key\": API_KEY}"
   ]
  },
  {
   "cell_type": "markdown",
   "metadata": {},
   "source": [
    "## Creating UUIDs\n",
    "\n",
    "Creating fleet, vehicle and rider uuids using uuid4"
   ]
  },
  {
   "cell_type": "code",
   "execution_count": null,
   "metadata": {},
   "outputs": [],
   "source": [
    "fleet_id = str(uuid.uuid4())\n",
    "vehicle_id = str(uuid.uuid4())\n",
    "rider_id = str(uuid.uuid4())\n",
    "trip_id = str(uuid.uuid4())\n",
    "\n",
    "print(\"Fleet id: \" + fleet_id)\n",
    "print(\"Vehicle id: \" + vehicle_id)\n",
    "print(\"Rider id: \" + rider_id)\n",
    "print(\"Trip id: \" + trip_id)"
   ]
  },
  {
   "cell_type": "markdown",
   "metadata": {},
   "source": [
    "## CreateFleet\n",
    "\n",
    "Creating a fleet using ride-hail-operations."
   ]
  },
  {
   "cell_type": "code",
   "execution_count": null,
   "metadata": {
    "pycharm": {
     "is_executing": false,
     "name": "#%%\n"
    }
   },
   "outputs": [],
   "source": [
    "CREATE_FLEET_URL = \"https://api.rideos.ai/ride-hail-operations/v1/CreateFleet\"\n",
    "\n",
    "create_fleet_request = {\n",
    "    \"id\": fleet_id,\n",
    "    \"info\": {\n",
    "        \"display_name\": \"Sample Application Fleet\"\n",
    "    }\n",
    "}\n",
    "\n",
    "response = requests.post(\n",
    "    CREATE_FLEET_URL,\n",
    "    headers=AUTHORIZATION_HEADER,\n",
    "    json=create_fleet_request\n",
    ")\n",
    "response.raise_for_status()\n",
    "\n",
    "create_fleet_response = response.json()\n",
    "\n",
    "print(\"Got successful create fleet response:\")\n",
    "print(json.dumps(create_fleet_response, indent=4))\n"
   ]
  },
  {
   "cell_type": "markdown",
   "metadata": {},
   "source": [
    "## GetFleetsRC\n",
    "\n",
    "Getting the fleet to make sure we've created the right fleet."
   ]
  },
  {
   "cell_type": "code",
   "execution_count": null,
   "metadata": {},
   "outputs": [],
   "source": [
    "GET_FLEET_URL = \"https://api.rideos.ai/ride-hail-operations/v1/GetFleetsRC\"\n",
    "\n",
    "get_fleet_request = {}\n",
    "\n",
    "response = requests.post(\n",
    "    GET_FLEET_URL,\n",
    "    headers=AUTHORIZATION_HEADER,\n",
    "    json=get_fleet_request\n",
    ")\n",
    "response.raise_for_status()\n",
    "\n",
    "get_fleet_response = response.json()\n",
    "\n",
    "print(\"Got successful get fleet response:\")\n",
    "print(json.dumps(get_fleet_response, indent=4))"
   ]
  },
  {
   "cell_type": "markdown",
   "metadata": {},
   "source": [
    "## CreateVehicle\n",
    "\n",
    "Adding a vehicle to a fleet using ride-hail-driver. Each vehicle can only belong to one fleet."
   ]
  },
  {
   "cell_type": "code",
   "execution_count": null,
   "metadata": {},
   "outputs": [],
   "source": [
    "CREATE_VEHICLE_URL = \"https://api.rideos.ai/ride-hail-driver/v1/CreateVehicle\"\n",
    "\n",
    "create_vehicle_request = {\n",
    "    \"id\": vehicle_id,\n",
    "    \"fleet_id\": fleet_id,\n",
    "    \"definition\": {\n",
    "        \"rider_capacity\": 4\n",
    "    },\n",
    "    \"info\": {\n",
    "        \"driver_info\": {\n",
    "            \"contact_info\": {\n",
    "                \"name\": \"sample app driver1\",\n",
    "                \"phone_number\": 987654321\n",
    "            }\n",
    "        },\n",
    "        \"properties\": {\n",
    "            \"make\": \"Toyota\",\n",
    "            \"model\": \"Camry\"\n",
    "        }\n",
    "    }\n",
    "}\n",
    "    \n",
    "response = requests.post(\n",
    "    CREATE_VEHICLE_URL,\n",
    "    headers=AUTHORIZATION_HEADER,\n",
    "    json=create_vehicle_request\n",
    ")\n",
    "response.raise_for_status()\n",
    "\n",
    "create_vehicle_response = response.json()\n",
    "\n",
    "print(\"Got successful create vehicle response:\")\n",
    "print(json.dumps(create_vehicle_response, indent=4))"
   ]
  },
  {
   "cell_type": "markdown",
   "metadata": {},
   "source": [
    "## GetVehicles\n",
    "\n",
    "Get the vehicles in the fleet."
   ]
  },
  {
   "cell_type": "code",
   "execution_count": null,
   "metadata": {},
   "outputs": [],
   "source": [
    "GET_VEHICLES_URL = \"https://api.rideos.ai/ride-hail-operations/v1/GetVehicles\"\n",
    "\n",
    "get_vehicles_request = {\n",
    "    \"fleet_id\": fleet_id\n",
    "}\n",
    "\n",
    "response = requests.post(\n",
    "    GET_VEHICLES_URL,\n",
    "    headers=AUTHORIZATION_HEADER,\n",
    "    json=get_vehicles_request\n",
    ")\n",
    "response.raise_for_status()\n",
    "\n",
    "get_vehicles_response = response.json()\n",
    "\n",
    "print(\"Got successful get vehicles response:\")\n",
    "print(json.dumps(get_vehicles_response, indent=4))"
   ]
  },
  {
   "cell_type": "markdown",
   "metadata": {},
   "source": [
    "## UpdateVehicleState - UpdatePosition\n",
    "\n",
    "Setting the vehicle's current position by updating the vehicle state"
   ]
  },
  {
   "cell_type": "code",
   "execution_count": null,
   "metadata": {},
   "outputs": [],
   "source": [
    "UPDATE_VEHICLE_STATE_URL = \"https://api.rideos.ai/ride-hail-driver/v1/UpdateVehicleState\"\n",
    "\n",
    "update_vehicle_state_request = {\n",
    "    \"id\": vehicle_id,\n",
    "    \"update_position\": {\n",
    "        \"updated_position\": { # San Francisco\n",
    "            \"latitude\": 37.788897, \n",
    "            \"longitude\": -122.389669\n",
    "        },\n",
    "        \"updated_heading\": 0.0\n",
    "    }\n",
    "}\n",
    "    \n",
    "response = requests.post(\n",
    "    UPDATE_VEHICLE_STATE_URL,\n",
    "    headers=AUTHORIZATION_HEADER,\n",
    "    json=update_vehicle_state_request\n",
    ")\n",
    "response.raise_for_status()\n",
    "\n",
    "update_vehicle_state_response = response.json()\n",
    "\n",
    "print(\"Got successful update vehicle state response:\")\n",
    "print(json.dumps(update_vehicle_state_response, indent=4))"
   ]
  },
  {
   "cell_type": "markdown",
   "metadata": {},
   "source": [
    "## UpdateVehicleState - SetToReady\n",
    "\n",
    "Marking the vehicle ready for dispatch by updating the vehicle state"
   ]
  },
  {
   "cell_type": "code",
   "execution_count": null,
   "metadata": {},
   "outputs": [],
   "source": [
    "UPDATE_VEHICLE_STATE_URL = \"https://api.rideos.ai/ride-hail-driver/v1/UpdateVehicleState\"\n",
    "\n",
    "update_vehicle_state_request = {\n",
    "    \"id\": vehicle_id,\n",
    "    \"set_to_ready\": {}\n",
    "}\n",
    "    \n",
    "response = requests.post(\n",
    "    UPDATE_VEHICLE_STATE_URL,\n",
    "    headers=AUTHORIZATION_HEADER,\n",
    "    json=update_vehicle_state_request\n",
    ")\n",
    "response.raise_for_status()\n",
    "\n",
    "update_vehicle_state_response = response.json()\n",
    "\n",
    "print(\"Got successful update vehicle state response:\")\n",
    "print(json.dumps(update_vehicle_state_response, indent=4))"
   ]
  },
  {
   "cell_type": "markdown",
   "metadata": {},
   "source": [
    "## GetVehicleState\n",
    "\n",
    "Checking the vehicle state is as it should be"
   ]
  },
  {
   "cell_type": "code",
   "execution_count": null,
   "metadata": {},
   "outputs": [],
   "source": [
    "GET_VEHICLE_STATE_URL = \"https://api.rideos.ai/ride-hail-driver/v1/GetVehicleState\"\n",
    "\n",
    "get_vehicle_state_request = {\n",
    "    \"id\": vehicle_id\n",
    "}\n",
    "    \n",
    "response = requests.post(\n",
    "    GET_VEHICLE_STATE_URL,\n",
    "    headers=AUTHORIZATION_HEADER,\n",
    "    json=get_vehicle_state_request\n",
    ")\n",
    "response.raise_for_status()\n",
    "\n",
    "get_vehicle_state_response = response.json()\n",
    "\n",
    "print(\"Got successful get vehicle state response:\")\n",
    "print(json.dumps(get_vehicle_state_response, indent=4))"
   ]
  },
  {
   "cell_type": "markdown",
   "metadata": {},
   "source": [
    "## GetVehiclesInVicinity\n",
    "\n",
    "Getting the available vehicles ready for dispatch in the area"
   ]
  },
  {
   "cell_type": "code",
   "execution_count": null,
   "metadata": {},
   "outputs": [],
   "source": [
    "GET_VEHICLES_IN_VICINITY_URL = \"https://api.rideos.ai/ride-hail-rider/v1/GetVehiclesInVicinity\"\n",
    "\n",
    "get_vehicles_in_vicinity_request = {\n",
    "    \"fleet_id\": fleet_id,\n",
    "    \"query_position\": { # San Francisco\n",
    "        \"latitude\": 37.788897, \n",
    "        \"longitude\": -122.389669\n",
    "    }\n",
    "}\n",
    "\n",
    "response = requests.post(\n",
    "    GET_VEHICLES_IN_VICINITY_URL,\n",
    "    headers=AUTHORIZATION_HEADER,\n",
    "    json=get_vehicles_in_vicinity_request\n",
    ")\n",
    "response.raise_for_status()\n",
    "\n",
    "get_vehicles_in_vicinity_response = response.json()\n",
    "\n",
    "print(\"Got successful get vehicles in vicinity response:\")\n",
    "print(json.dumps(get_vehicles_in_vicinity_response, indent=4))"
   ]
  },
  {
   "cell_type": "markdown",
   "metadata": {},
   "source": [
    "## RequestTripRC\n",
    "\n",
    "Requesting a trip using ride-hail-rider with a pickup, dropoff and 2 riders"
   ]
  },
  {
   "cell_type": "code",
   "execution_count": null,
   "metadata": {},
   "outputs": [],
   "source": [
    "REQUEST_TRIP_URL = \"https://api.rideos.ai/ride-hail-rider/v1/RequestTripRC\"\n",
    "\n",
    "request_trip_request = {\n",
    "    \"id\": trip_id,\n",
    "    \"rider_id\": rider_id,\n",
    "    \"fleet_id\": fleet_id,\n",
    "    \"definition\": {\n",
    "        \"pickup_dropoff\": {\n",
    "            \"pickup\": {\n",
    "                \"position\": {\n",
    "                    \"latitude\": 37.790329, \n",
    "                    \"longitude\": -122.392231\n",
    "                }\n",
    "            },\n",
    "            \"dropoff\": {\n",
    "                \"position\": {\n",
    "                    \"latitude\": 37.795107, \n",
    "                    \"longitude\": -122.393426\n",
    "                }\n",
    "            },\n",
    "            \"rider_count\": 2\n",
    "        }\n",
    "    },\n",
    "    \"info\": {\n",
    "        \"rider_info\": {\n",
    "            \"contact_info\": {\n",
    "                \"name\": \"sample app rider1\",\n",
    "                \"phone_number\": 123456789\n",
    "            }\n",
    "        }\n",
    "    }\n",
    "}\n",
    "\n",
    "response = requests.post(\n",
    "    REQUEST_TRIP_URL,\n",
    "    headers=AUTHORIZATION_HEADER,\n",
    "    json=request_trip_request\n",
    ")\n",
    "response.raise_for_status()\n",
    "\n",
    "request_trip_response = response.json()\n",
    "\n",
    "print(\"Got successful request trip response:\")\n",
    "print(json.dumps(request_trip_response, indent=4))"
   ]
  },
  {
   "cell_type": "markdown",
   "metadata": {},
   "source": [
    "## GetActiveTripId\n",
    "\n",
    "Getting the active trips for the rider."
   ]
  },
  {
   "cell_type": "code",
   "execution_count": null,
   "metadata": {},
   "outputs": [],
   "source": [
    "GET_ACTIVE_TRIP_ID_URL = \"https://api.rideos.ai/ride-hail-rider/v1/GetActiveTripId\"\n",
    "\n",
    "get_active_trip_id_request = {\n",
    "    \"rider_id\": rider_id\n",
    "}\n",
    "\n",
    "response = requests.post(\n",
    "    GET_ACTIVE_TRIP_ID_URL,\n",
    "    headers=AUTHORIZATION_HEADER,\n",
    "    json=get_active_trip_id_request\n",
    ")\n",
    "response.raise_for_status()\n",
    "\n",
    "get_active_trip_id_response = response.json()\n",
    "\n",
    "print(\"Got successful get active trip id response:\")\n",
    "print(json.dumps(get_active_trip_id_response, indent=4))"
   ]
  },
  {
   "cell_type": "markdown",
   "metadata": {},
   "source": [
    "## GetTripStateRC\n",
    "\n",
    "Checking on the state of the rider's trip. Should be DrivingToPickup and assigned vehicle should be sample-app-vehicle1."
   ]
  },
  {
   "cell_type": "code",
   "execution_count": null,
   "metadata": {},
   "outputs": [],
   "source": [
    "GET_TRIP_STATE_URL = \"https://api.rideos.ai/ride-hail-rider/v1/GetTripStateRC\"\n",
    "\n",
    "get_trip_state_request = {\n",
    "    \"id\": trip_id\n",
    "}\n",
    "\n",
    "response = requests.post(\n",
    "    GET_TRIP_STATE_URL,\n",
    "    headers=AUTHORIZATION_HEADER,\n",
    "    json=get_trip_state_request\n",
    ")\n",
    "response.raise_for_status()\n",
    "\n",
    "get_trip_state_response = response.json()\n",
    "\n",
    "step_id = get_trip_state_response['state']['drivingToPickup']['assignedVehicle']['planThroughTripEnd']['step'][0]['id']\n",
    "\n",
    "print(\"Got successful get trip state response:\")\n",
    "print(json.dumps(get_trip_state_response, indent=4))"
   ]
  },
  {
   "cell_type": "markdown",
   "metadata": {},
   "source": [
    "## CompleteStep\n",
    "\n",
    "Driving to pickup."
   ]
  },
  {
   "cell_type": "code",
   "execution_count": null,
   "metadata": {},
   "outputs": [],
   "source": [
    "COMPLETE_STEP_URL = \"https://api.rideos.ai/ride-hail-driver/v1/CompleteStep\"\n",
    "\n",
    "complete_step_request = {\n",
    "    \"vehicle_id\": vehicle_id,\n",
    "    \"trip_id\": trip_id,\n",
    "    \"step_id\": step_id\n",
    "}\n",
    "\n",
    "response = requests.post(\n",
    "    COMPLETE_STEP_URL,\n",
    "    headers=AUTHORIZATION_HEADER,\n",
    "    json=complete_step_request\n",
    ")\n",
    "response.raise_for_status()\n",
    "\n",
    "complete_step_response = response.json()\n",
    "\n",
    "print(\"Got successful complete step response:\")\n",
    "print(json.dumps(complete_step_response, indent=4))"
   ]
  },
  {
   "cell_type": "markdown",
   "metadata": {},
   "source": [
    "## GetTripStateRC\n",
    "\n",
    "Checking on the state of the rider's trip. Next step should be LoadResource."
   ]
  },
  {
   "cell_type": "code",
   "execution_count": null,
   "metadata": {},
   "outputs": [],
   "source": [
    "GET_TRIP_STATE_URL = \"https://api.rideos.ai/ride-hail-rider/v1/GetTripStateRC\"\n",
    "\n",
    "get_trip_state_request = {\n",
    "    \"id\": trip_id\n",
    "}\n",
    "\n",
    "response = requests.post(\n",
    "    GET_TRIP_STATE_URL,\n",
    "    headers=AUTHORIZATION_HEADER,\n",
    "    json=get_trip_state_request\n",
    ")\n",
    "response.raise_for_status()\n",
    "\n",
    "get_trip_state_response = response.json()\n",
    "\n",
    "step_id = get_trip_state_response['state']['waitingForPickup']['assignedVehicle']['planThroughTripEnd']['step'][0]['id']\n",
    "\n",
    "print(\"Got successful get trip state response:\")\n",
    "print(json.dumps(get_trip_state_response, indent=4))"
   ]
  },
  {
   "cell_type": "markdown",
   "metadata": {},
   "source": [
    "## CompleteStep\n",
    "\n",
    "Waiting for pickup."
   ]
  },
  {
   "cell_type": "code",
   "execution_count": null,
   "metadata": {},
   "outputs": [],
   "source": [
    "COMPLETE_STEP_URL = \"https://api.rideos.ai/ride-hail-driver/v1/CompleteStep\"\n",
    "\n",
    "complete_step_request = {\n",
    "    \"vehicle_id\": vehicle_id,\n",
    "    \"trip_id\": trip_id,\n",
    "    \"step_id\": step_id\n",
    "}\n",
    "\n",
    "response = requests.post(\n",
    "    COMPLETE_STEP_URL,\n",
    "    headers=AUTHORIZATION_HEADER,\n",
    "    json=complete_step_request\n",
    ")\n",
    "response.raise_for_status()\n",
    "\n",
    "complete_step_response = response.json()\n",
    "\n",
    "print(\"Got successful complete step response:\")\n",
    "print(json.dumps(complete_step_response, indent=4))"
   ]
  },
  {
   "cell_type": "markdown",
   "metadata": {},
   "source": [
    "## GetTripStateRC\n",
    "\n",
    "Checking on the state of the rider's trip. Next step should be DriveToDropoff."
   ]
  },
  {
   "cell_type": "code",
   "execution_count": null,
   "metadata": {},
   "outputs": [],
   "source": [
    "GET_TRIP_STATE_URL = \"https://api.rideos.ai/ride-hail-rider/v1/GetTripStateRC\"\n",
    "\n",
    "get_trip_state_request = {\n",
    "    \"id\": trip_id\n",
    "}\n",
    "\n",
    "response = requests.post(\n",
    "    GET_TRIP_STATE_URL,\n",
    "    headers=AUTHORIZATION_HEADER,\n",
    "    json=get_trip_state_request\n",
    ")\n",
    "response.raise_for_status()\n",
    "\n",
    "get_trip_state_response = response.json()\n",
    "\n",
    "step_id = get_trip_state_response['state']['drivingToDropoff']['assignedVehicle']['planThroughTripEnd']['step'][0]['id']\n",
    "\n",
    "print(\"Got successful get trip state response:\")\n",
    "print(json.dumps(get_trip_state_response, indent=4))"
   ]
  },
  {
   "cell_type": "markdown",
   "metadata": {},
   "source": [
    "## CompleteStep\n",
    "\n",
    "Dropoff. Completing this last step will complete the trip."
   ]
  },
  {
   "cell_type": "code",
   "execution_count": null,
   "metadata": {},
   "outputs": [],
   "source": [
    "COMPLETE_STEP_URL = \"https://api.rideos.ai/ride-hail-driver/v1/CompleteStep\"\n",
    "\n",
    "complete_step_request = {\n",
    "    \"vehicle_id\": vehicle_id,\n",
    "    \"trip_id\": trip_id,\n",
    "    \"step_id\": step_id\n",
    "}\n",
    "\n",
    "response = requests.post(\n",
    "    COMPLETE_STEP_URL,\n",
    "    headers=AUTHORIZATION_HEADER,\n",
    "    json=complete_step_request\n",
    ")\n",
    "response.raise_for_status()\n",
    "\n",
    "complete_step_response = response.json()\n",
    "\n",
    "print(\"Got successful complete step response:\")\n",
    "print(json.dumps(complete_step_response, indent=4))"
   ]
  },
  {
   "cell_type": "markdown",
   "metadata": {},
   "source": [
    "## GetTripStateRC"
   ]
  },
  {
   "cell_type": "code",
   "execution_count": null,
   "metadata": {},
   "outputs": [],
   "source": [
    "GET_TRIP_STATE_URL = \"https://api.rideos.ai/ride-hail-rider/v1/GetTripStateRC\"\n",
    "\n",
    "get_trip_state_request = {\n",
    "    \"id\": trip_id\n",
    "}\n",
    "\n",
    "response = requests.post(\n",
    "    GET_TRIP_STATE_URL,\n",
    "    headers=AUTHORIZATION_HEADER,\n",
    "    json=get_trip_state_request\n",
    ")\n",
    "response.raise_for_status()\n",
    "\n",
    "get_trip_state_response = response.json()\n",
    "\n",
    "print(\"Got successful get trip state response:\")\n",
    "print(json.dumps(get_trip_state_response, indent=4))"
   ]
  },
  {
   "cell_type": "markdown",
   "metadata": {},
   "source": [
    "## RemoveVehicle\n",
    "\n",
    "Removing a vehicle from a fleet using ride-hail-driver. "
   ]
  },
  {
   "cell_type": "code",
   "execution_count": null,
   "metadata": {},
   "outputs": [],
   "source": [
    "REMOVE_VEHICLE_URL = \"https://api.rideos.ai/ride-hail-driver/v1/RemoveVehicle\"\n",
    "\n",
    "remove_vehicle_request = {\n",
    "    \"id\": vehicle_id\n",
    "}\n",
    "\n",
    "response = requests.post(\n",
    "    REMOVE_VEHICLE_URL,\n",
    "    headers=AUTHORIZATION_HEADER,\n",
    "    json=remove_vehicle_request\n",
    ")\n",
    "response.raise_for_status()\n",
    "\n",
    "remove_vehicle_response = response.json()\n",
    "\n",
    "print(\"Got successful remove vehicle response:\")\n",
    "print(json.dumps(remove_vehicle_response, indent=4))"
   ]
  },
  {
   "cell_type": "markdown",
   "metadata": {},
   "source": [
    "## RemoveFleet\n",
    "\n",
    "Removing the fleet using ride-hail-operations."
   ]
  },
  {
   "cell_type": "code",
   "execution_count": null,
   "metadata": {},
   "outputs": [],
   "source": [
    "REMOVE_FLEET_URL = \"https://api.rideos.ai/ride-hail-operations/v1/RemoveFleet\"\n",
    "\n",
    "remove_fleet_request = {\n",
    "    \"id\": fleet_id\n",
    "}\n",
    "\n",
    "response = requests.post(\n",
    "    REMOVE_FLEET_URL,\n",
    "    headers=AUTHORIZATION_HEADER,\n",
    "    json=remove_fleet_request\n",
    ")\n",
    "response.raise_for_status()\n",
    "\n",
    "remove_fleet_response = response.json()\n",
    "\n",
    "print(\"Got successful remove fleet response:\")\n",
    "print(json.dumps(remove_fleet_response, indent=4))"
   ]
  },
  {
   "cell_type": "code",
   "execution_count": null,
   "metadata": {},
   "outputs": [],
   "source": []
  }
 ],
 "metadata": {
  "kernelspec": {
   "display_name": "Python 3",
   "language": "python",
   "name": "python3"
  },
  "language_info": {
   "codemirror_mode": {
    "name": "ipython",
    "version": 3
   },
   "file_extension": ".py",
   "mimetype": "text/x-python",
   "name": "python",
   "nbconvert_exporter": "python",
   "pygments_lexer": "ipython3",
   "version": "3.7.3"
  },
  "pycharm": {
   "stem_cell": {
    "cell_type": "raw",
    "metadata": {
     "collapsed": false
    },
    "source": []
   }
  }
 },
 "nbformat": 4,
 "nbformat_minor": 1
}
